{
  "nbformat": 4,
  "nbformat_minor": 0,
  "metadata": {
    "colab": {
      "name": "Tensorflow2.0_Tutorial.ipynb",
      "version": "0.3.2",
      "provenance": [],
      "collapsed_sections": [],
      "include_colab_link": true
    },
    "kernelspec": {
      "name": "python3",
      "display_name": "Python 3"
    }
  },
  "cells": [
    {
      "cell_type": "markdown",
      "metadata": {
        "id": "view-in-github",
        "colab_type": "text"
      },
      "source": [
        "<a href=\"https://colab.research.google.com/github/bigbadsohn/CactusID/blob/master/Tensorflow2_0_Tutorial.ipynb\" target=\"_parent\"><img src=\"https://colab.research.google.com/assets/colab-badge.svg\" alt=\"Open In Colab\"/></a>"
      ]
    },
    {
      "cell_type": "markdown",
      "metadata": {
        "id": "dbWhHwPis5fl",
        "colab_type": "text"
      },
      "source": [
        "#Installed TF 2.0"
      ]
    },
    {
      "cell_type": "code",
      "metadata": {
        "id": "vsg3tUrxsPNh",
        "colab_type": "code",
        "outputId": "05aba2a3-3408-455c-f34f-2b345df0ae0b",
        "colab": {
          "base_uri": "https://localhost:8080/",
          "height": 544
        }
      },
      "source": [
        " pip install tensorflow==2.0.0-beta1 \n"
      ],
      "execution_count": 0,
      "outputs": [
        {
          "output_type": "stream",
          "text": [
            "Collecting tensorflow==2.0.0-beta1\n",
            "\u001b[?25l  Downloading https://files.pythonhosted.org/packages/29/6c/2c9a5c4d095c63c2fb37d20def0e4f92685f7aee9243d6aae25862694fd1/tensorflow-2.0.0b1-cp36-cp36m-manylinux1_x86_64.whl (87.9MB)\n",
            "\u001b[K     |████████████████████████████████| 87.9MB 63.5MB/s \n",
            "\u001b[?25hCollecting tf-estimator-nightly<1.14.0.dev2019060502,>=1.14.0.dev2019060501 (from tensorflow==2.0.0-beta1)\n",
            "\u001b[?25l  Downloading https://files.pythonhosted.org/packages/32/dd/99c47dd007dcf10d63fd895611b063732646f23059c618a373e85019eb0e/tf_estimator_nightly-1.14.0.dev2019060501-py2.py3-none-any.whl (496kB)\n",
            "\u001b[K     |████████████████████████████████| 501kB 35.1MB/s \n",
            "\u001b[?25hRequirement already satisfied: wheel>=0.26 in /usr/local/lib/python3.6/dist-packages (from tensorflow==2.0.0-beta1) (0.33.4)\n",
            "Requirement already satisfied: keras-applications>=1.0.6 in /usr/local/lib/python3.6/dist-packages (from tensorflow==2.0.0-beta1) (1.0.8)\n",
            "Collecting tb-nightly<1.14.0a20190604,>=1.14.0a20190603 (from tensorflow==2.0.0-beta1)\n",
            "\u001b[?25l  Downloading https://files.pythonhosted.org/packages/a4/96/571b875cd81dda9d5dfa1422a4f9d749e67c0a8d4f4f0b33a4e5f5f35e27/tb_nightly-1.14.0a20190603-py3-none-any.whl (3.1MB)\n",
            "\u001b[K     |████████████████████████████████| 3.1MB 19.8MB/s \n",
            "\u001b[?25hRequirement already satisfied: termcolor>=1.1.0 in /usr/local/lib/python3.6/dist-packages (from tensorflow==2.0.0-beta1) (1.1.0)\n",
            "Requirement already satisfied: google-pasta>=0.1.6 in /usr/local/lib/python3.6/dist-packages (from tensorflow==2.0.0-beta1) (0.1.7)\n",
            "Requirement already satisfied: keras-preprocessing>=1.0.5 in /usr/local/lib/python3.6/dist-packages (from tensorflow==2.0.0-beta1) (1.1.0)\n",
            "Requirement already satisfied: six>=1.10.0 in /usr/local/lib/python3.6/dist-packages (from tensorflow==2.0.0-beta1) (1.12.0)\n",
            "Requirement already satisfied: protobuf>=3.6.1 in /usr/local/lib/python3.6/dist-packages (from tensorflow==2.0.0-beta1) (3.7.1)\n",
            "Requirement already satisfied: absl-py>=0.7.0 in /usr/local/lib/python3.6/dist-packages (from tensorflow==2.0.0-beta1) (0.7.1)\n",
            "Requirement already satisfied: grpcio>=1.8.6 in /usr/local/lib/python3.6/dist-packages (from tensorflow==2.0.0-beta1) (1.15.0)\n",
            "Requirement already satisfied: numpy<2.0,>=1.14.5 in /usr/local/lib/python3.6/dist-packages (from tensorflow==2.0.0-beta1) (1.16.4)\n",
            "Requirement already satisfied: wrapt>=1.11.1 in /usr/local/lib/python3.6/dist-packages (from tensorflow==2.0.0-beta1) (1.11.2)\n",
            "Requirement already satisfied: astor>=0.6.0 in /usr/local/lib/python3.6/dist-packages (from tensorflow==2.0.0-beta1) (0.8.0)\n",
            "Requirement already satisfied: gast>=0.2.0 in /usr/local/lib/python3.6/dist-packages (from tensorflow==2.0.0-beta1) (0.2.2)\n",
            "Requirement already satisfied: h5py in /usr/local/lib/python3.6/dist-packages (from keras-applications>=1.0.6->tensorflow==2.0.0-beta1) (2.8.0)\n",
            "Requirement already satisfied: markdown>=2.6.8 in /usr/local/lib/python3.6/dist-packages (from tb-nightly<1.14.0a20190604,>=1.14.0a20190603->tensorflow==2.0.0-beta1) (3.1.1)\n",
            "Requirement already satisfied: setuptools>=41.0.0 in /usr/local/lib/python3.6/dist-packages (from tb-nightly<1.14.0a20190604,>=1.14.0a20190603->tensorflow==2.0.0-beta1) (41.0.1)\n",
            "Requirement already satisfied: werkzeug>=0.11.15 in /usr/local/lib/python3.6/dist-packages (from tb-nightly<1.14.0a20190604,>=1.14.0a20190603->tensorflow==2.0.0-beta1) (0.15.4)\n",
            "Installing collected packages: tf-estimator-nightly, tb-nightly, tensorflow\n",
            "  Found existing installation: tensorflow 1.14.0\n",
            "    Uninstalling tensorflow-1.14.0:\n",
            "      Successfully uninstalled tensorflow-1.14.0\n",
            "Successfully installed tb-nightly-1.14.0a20190603 tensorflow-2.0.0b1 tf-estimator-nightly-1.14.0.dev2019060501\n"
          ],
          "name": "stdout"
        }
      ]
    },
    {
      "cell_type": "markdown",
      "metadata": {
        "id": "2tB5yogCtxL1",
        "colab_type": "text"
      },
      "source": [
        "#import numpy and tensorflow modules\n",
        "#check version no. for TF"
      ]
    },
    {
      "cell_type": "code",
      "metadata": {
        "id": "RSQ3_JGksw79",
        "colab_type": "code",
        "outputId": "a559201c-343a-4091-c72c-3306909a744c",
        "colab": {
          "base_uri": "https://localhost:8080/",
          "height": 34
        }
      },
      "source": [
        "import numpy as np\n",
        "import tensorflow as tf\n",
        "print(\"Tensorflow:\", tf.__version__)"
      ],
      "execution_count": 0,
      "outputs": [
        {
          "output_type": "stream",
          "text": [
            "Tensorflow: 2.0.0-beta1\n"
          ],
          "name": "stdout"
        }
      ]
    },
    {
      "cell_type": "markdown",
      "metadata": {
        "id": "-5oyAHl3uKLl",
        "colab_type": "text"
      },
      "source": [
        "#displays name, shape property, data type, and value"
      ]
    },
    {
      "cell_type": "code",
      "metadata": {
        "id": "KVSVPipQtgNF",
        "colab_type": "code",
        "outputId": "5d7e2a9c-c4fb-4519-a2a0-b25835accad9",
        "colab": {
          "base_uri": "https://localhost:8080/",
          "height": 51
        }
      },
      "source": [
        "a = tf.Variable(4.0)\n",
        "print(\"info: \" + str(a))\n",
        "\n",
        "#show just value\n",
        "print(\"just number: \" + str(a.numpy()))"
      ],
      "execution_count": 0,
      "outputs": [
        {
          "output_type": "stream",
          "text": [
            "info: <tf.Variable 'Variable:0' shape=() dtype=float32, numpy=4.0>\n",
            "just number: 4.0\n"
          ],
          "name": "stdout"
        }
      ]
    },
    {
      "cell_type": "markdown",
      "metadata": {
        "id": "TAp7Cf3UvDtj",
        "colab_type": "text"
      },
      "source": [
        "#example function f(x)=a*x"
      ]
    },
    {
      "cell_type": "markdown",
      "metadata": {
        "id": "aKWmO7RawqSE",
        "colab_type": "text"
      },
      "source": [
        ""
      ]
    },
    {
      "cell_type": "code",
      "metadata": {
        "id": "KWyGKjUyu4B-",
        "colab_type": "code",
        "outputId": "6eb8009c-f8bf-4b2b-e6e5-0b78de48ac11",
        "colab": {
          "base_uri": "https://localhost:8080/",
          "height": 34
        }
      },
      "source": [
        "def f(x):\n",
        "   return a*x\n",
        "\n",
        "print(f(5))"
      ],
      "execution_count": 0,
      "outputs": [
        {
          "output_type": "stream",
          "text": [
            "tf.Tensor(20.0, shape=(), dtype=float32)\n"
          ],
          "name": "stdout"
        }
      ]
    },
    {
      "cell_type": "markdown",
      "metadata": {
        "id": "f7Dn03KQvaSe",
        "colab_type": "text"
      },
      "source": [
        "#cost function (measures accuracy of hypothesis function by taking an average difference of all results of the hypothesis with inputs from x's and the actual output y's) ex. Squared error function or Mean Squared Error"
      ]
    },
    {
      "cell_type": "code",
      "metadata": {
        "id": "tNadKsm7vSm1",
        "colab_type": "code",
        "outputId": "4a01a7de-7cef-4c13-9992-7b52fed12d09",
        "colab": {
          "base_uri": "https://localhost:8080/",
          "height": 34
        }
      },
      "source": [
        "cost_fxn = lambda: abs(f(5)-5)\n",
        "print(loss)"
      ],
      "execution_count": 0,
      "outputs": [
        {
          "output_type": "stream",
          "text": [
            "tf.Tensor(15.0, shape=(), dtype=float32)\n"
          ],
          "name": "stdout"
        }
      ]
    },
    {
      "cell_type": "markdown",
      "metadata": {
        "id": "dNr-InxAxKrr",
        "colab_type": "text"
      },
      "source": [
        "#Optimizer used to do the minimizing\n",
        "\n",
        "*   Learning Rate set to 1\n",
        "*   Using Adam optimizer alogorithm\n",
        "\n"
      ]
    },
    {
      "cell_type": "code",
      "metadata": {
        "id": "coiFVHiEwt97",
        "colab_type": "code",
        "outputId": "10d5e6ee-3351-47ba-8396-cdff152b3f0a",
        "colab": {
          "base_uri": "https://localhost:8080/",
          "height": 34
        }
      },
      "source": [
        "optimizer = tf.optimizers.Adam(learning_rate = 1)\n",
        "optimizer.minimize(cost_fxn, var_list=[a])\n",
        "print(a.numpy(), f(5))"
      ],
      "execution_count": 0,
      "outputs": [
        {
          "output_type": "stream",
          "text": [
            "3.0000007 tf.Tensor(15.000004, shape=(), dtype=float32)\n"
          ],
          "name": "stdout"
        }
      ]
    },
    {
      "cell_type": "markdown",
      "metadata": {
        "id": "XSnyEgvyx197",
        "colab_type": "text"
      },
      "source": [
        "###^notice the original a = 4 is now a = 3, decrease by one ie learning rate"
      ]
    },
    {
      "cell_type": "markdown",
      "metadata": {
        "id": "5l0A2CR3z2-y",
        "colab_type": "text"
      },
      "source": [
        "#Repeating 20 times shows the value of a oscillating around 1"
      ]
    },
    {
      "cell_type": "code",
      "metadata": {
        "id": "Dj_Wu-fgyFjl",
        "colab_type": "code",
        "outputId": "ff569741-31b4-4b9f-fa0d-4827ea7763db",
        "colab": {
          "base_uri": "https://localhost:8080/",
          "height": 357
        }
      },
      "source": [
        "for _ in range(20):\n",
        "  optimizer.minimize(cost_fxn, var_list=[a])\n",
        "  print(a.numpy(), f(5))"
      ],
      "execution_count": 0,
      "outputs": [
        {
          "output_type": "stream",
          "text": [
            "1.0135236 tf.Tensor(5.067618, shape=(), dtype=float32)\n",
            "0.93097925 tf.Tensor(4.6548963, shape=(), dtype=float32)\n",
            "0.95681715 tf.Tensor(4.7840858, shape=(), dtype=float32)\n",
            "1.0801748 tf.Tensor(5.400874, shape=(), dtype=float32)\n",
            "1.0910892 tf.Tensor(5.4554462, shape=(), dtype=float32)\n",
            "1.0008252 tf.Tensor(5.0041256, shape=(), dtype=float32)\n",
            "0.8195171 tf.Tensor(4.097585, shape=(), dtype=float32)\n",
            "0.75642216 tf.Tensor(3.7821107, shape=(), dtype=float32)\n",
            "0.7997034 tf.Tensor(3.998517, shape=(), dtype=float32)\n",
            "0.9387105 tf.Tensor(4.6935525, shape=(), dtype=float32)\n",
            "1.1638606 tf.Tensor(5.8193026, shape=(), dtype=float32)\n",
            "1.2664397 tf.Tensor(6.332198, shape=(), dtype=float32)\n",
            "1.2587155 tf.Tensor(6.2935777, shape=(), dtype=float32)\n",
            "1.1517271 tf.Tensor(5.7586355, shape=(), dtype=float32)\n",
            "0.95540774 tf.Tensor(4.7770386, shape=(), dtype=float32)\n",
            "0.87875617 tf.Tensor(4.3937807, shape=(), dtype=float32)\n",
            "0.9097988 tf.Tensor(4.548994, shape=(), dtype=float32)\n",
            "1.0377607 tf.Tensor(5.1888037, shape=(), dtype=float32)\n",
            "1.0529019 tf.Tensor(5.264509, shape=(), dtype=float32)\n",
            "0.96650887 tf.Tensor(4.8325443, shape=(), dtype=float32)\n"
          ],
          "name": "stdout"
        }
      ]
    },
    {
      "cell_type": "markdown",
      "metadata": {
        "id": "uexJNgxC0GjV",
        "colab_type": "text"
      },
      "source": [
        "#MNIST Training and Dataset\n",
        "#Number ID from pics"
      ]
    },
    {
      "cell_type": "code",
      "metadata": {
        "id": "iVbXbM0Cz1C7",
        "colab_type": "code",
        "outputId": "4c3e0b42-440a-44f6-c924-9c6ddb2a997f",
        "colab": {
          "base_uri": "https://localhost:8080/",
          "height": 119
        }
      },
      "source": [
        "#tensorflow keras (Neural Network API)\n",
        "mnist = tf.keras.datasets.mnist\n",
        "(x_train, y_train),(x_test, y_test) = mnist.load_data()\n",
        "print(\"x training: \" + str(x_train.shape))\n",
        "print(\"y training: \" + str(y_train.shape))\n",
        "print(\"x testing: \" + str(x_test.shape))\n",
        "print(\"y testing: \" + str(y_test.shape))"
      ],
      "execution_count": 0,
      "outputs": [
        {
          "output_type": "stream",
          "text": [
            "Downloading data from https://storage.googleapis.com/tensorflow/tf-keras-datasets/mnist.npz\n",
            "11493376/11490434 [==============================] - 0s 0us/step\n",
            "x training: (60000, 28, 28)\n",
            "y training: (60000,)\n",
            "x testing: (10000, 28, 28)\n",
            "y testing: (10000,)\n"
          ],
          "name": "stdout"
        }
      ]
    },
    {
      "cell_type": "markdown",
      "metadata": {
        "id": "XDRQbdCO2G7a",
        "colab_type": "text"
      },
      "source": [
        "###^so we have 60000 samples to train from and 10000 samples to test on\n",
        "###the \"28\" represents the dimension of the tensor ie 60000x28x28 matrix of data"
      ]
    },
    {
      "cell_type": "code",
      "metadata": {
        "id": "eQNt7FM71CJT",
        "colab_type": "code",
        "outputId": "44921567-5e22-4e86-e6df-13b6ba382472",
        "colab": {
          "base_uri": "https://localhost:8080/",
          "height": 986
        }
      },
      "source": [
        "print(\"1st x sample: \" + str(x_train[0]))\n",
        "print(\"1st y sample: \" + str(y_train[0]))"
      ],
      "execution_count": 0,
      "outputs": [
        {
          "output_type": "stream",
          "text": [
            "1st x sample: [[  0   0   0   0   0   0   0   0   0   0   0   0   0   0   0   0   0   0\n",
            "    0   0   0   0   0   0   0   0   0   0]\n",
            " [  0   0   0   0   0   0   0   0   0   0   0   0   0   0   0   0   0   0\n",
            "    0   0   0   0   0   0   0   0   0   0]\n",
            " [  0   0   0   0   0   0   0   0   0   0   0   0   0   0   0   0   0   0\n",
            "    0   0   0   0   0   0   0   0   0   0]\n",
            " [  0   0   0   0   0   0   0   0   0   0   0   0   0   0   0   0   0   0\n",
            "    0   0   0   0   0   0   0   0   0   0]\n",
            " [  0   0   0   0   0   0   0   0   0   0   0   0   0   0   0   0   0   0\n",
            "    0   0   0   0   0   0   0   0   0   0]\n",
            " [  0   0   0   0   0   0   0   0   0   0   0   0   3  18  18  18 126 136\n",
            "  175  26 166 255 247 127   0   0   0   0]\n",
            " [  0   0   0   0   0   0   0   0  30  36  94 154 170 253 253 253 253 253\n",
            "  225 172 253 242 195  64   0   0   0   0]\n",
            " [  0   0   0   0   0   0   0  49 238 253 253 253 253 253 253 253 253 251\n",
            "   93  82  82  56  39   0   0   0   0   0]\n",
            " [  0   0   0   0   0   0   0  18 219 253 253 253 253 253 198 182 247 241\n",
            "    0   0   0   0   0   0   0   0   0   0]\n",
            " [  0   0   0   0   0   0   0   0  80 156 107 253 253 205  11   0  43 154\n",
            "    0   0   0   0   0   0   0   0   0   0]\n",
            " [  0   0   0   0   0   0   0   0   0  14   1 154 253  90   0   0   0   0\n",
            "    0   0   0   0   0   0   0   0   0   0]\n",
            " [  0   0   0   0   0   0   0   0   0   0   0 139 253 190   2   0   0   0\n",
            "    0   0   0   0   0   0   0   0   0   0]\n",
            " [  0   0   0   0   0   0   0   0   0   0   0  11 190 253  70   0   0   0\n",
            "    0   0   0   0   0   0   0   0   0   0]\n",
            " [  0   0   0   0   0   0   0   0   0   0   0   0  35 241 225 160 108   1\n",
            "    0   0   0   0   0   0   0   0   0   0]\n",
            " [  0   0   0   0   0   0   0   0   0   0   0   0   0  81 240 253 253 119\n",
            "   25   0   0   0   0   0   0   0   0   0]\n",
            " [  0   0   0   0   0   0   0   0   0   0   0   0   0   0  45 186 253 253\n",
            "  150  27   0   0   0   0   0   0   0   0]\n",
            " [  0   0   0   0   0   0   0   0   0   0   0   0   0   0   0  16  93 252\n",
            "  253 187   0   0   0   0   0   0   0   0]\n",
            " [  0   0   0   0   0   0   0   0   0   0   0   0   0   0   0   0   0 249\n",
            "  253 249  64   0   0   0   0   0   0   0]\n",
            " [  0   0   0   0   0   0   0   0   0   0   0   0   0   0  46 130 183 253\n",
            "  253 207   2   0   0   0   0   0   0   0]\n",
            " [  0   0   0   0   0   0   0   0   0   0   0   0  39 148 229 253 253 253\n",
            "  250 182   0   0   0   0   0   0   0   0]\n",
            " [  0   0   0   0   0   0   0   0   0   0  24 114 221 253 253 253 253 201\n",
            "   78   0   0   0   0   0   0   0   0   0]\n",
            " [  0   0   0   0   0   0   0   0  23  66 213 253 253 253 253 198  81   2\n",
            "    0   0   0   0   0   0   0   0   0   0]\n",
            " [  0   0   0   0   0   0  18 171 219 253 253 253 253 195  80   9   0   0\n",
            "    0   0   0   0   0   0   0   0   0   0]\n",
            " [  0   0   0   0  55 172 226 253 253 253 253 244 133  11   0   0   0   0\n",
            "    0   0   0   0   0   0   0   0   0   0]\n",
            " [  0   0   0   0 136 253 253 253 212 135 132  16   0   0   0   0   0   0\n",
            "    0   0   0   0   0   0   0   0   0   0]\n",
            " [  0   0   0   0   0   0   0   0   0   0   0   0   0   0   0   0   0   0\n",
            "    0   0   0   0   0   0   0   0   0   0]\n",
            " [  0   0   0   0   0   0   0   0   0   0   0   0   0   0   0   0   0   0\n",
            "    0   0   0   0   0   0   0   0   0   0]\n",
            " [  0   0   0   0   0   0   0   0   0   0   0   0   0   0   0   0   0   0\n",
            "    0   0   0   0   0   0   0   0   0   0]]\n",
            "1st y sample: 5\n"
          ],
          "name": "stdout"
        }
      ]
    },
    {
      "cell_type": "markdown",
      "metadata": {
        "id": "KyliGkfl3BRj",
        "colab_type": "text"
      },
      "source": [
        "###^array of numbers represents the pixel darkness of the image (for number recognition)"
      ]
    },
    {
      "cell_type": "markdown",
      "metadata": {
        "id": "hfkrMIoC3V9y",
        "colab_type": "text"
      },
      "source": [
        "#Display the image using the Matplot Library"
      ]
    },
    {
      "cell_type": "code",
      "metadata": {
        "id": "-x7lb8rl3LLc",
        "colab_type": "code",
        "outputId": "b6e162bd-0937-4835-855f-ffc2a9bcc0b1",
        "colab": {
          "base_uri": "https://localhost:8080/",
          "height": 286
        }
      },
      "source": [
        "import matplotlib.pyplot as plt\n",
        "plt.imshow(x_train[0])\n",
        "print(y_train[0])"
      ],
      "execution_count": 0,
      "outputs": [
        {
          "output_type": "stream",
          "text": [
            "5\n"
          ],
          "name": "stdout"
        },
        {
          "output_type": "display_data",
          "data": {
            "image/png": "[encoded data removed]",
            "text/plain": [
              "<Figure size 432x288 with 1 Axes>"
            ]
          },
          "metadata": {
            "tags": []
          }
        }
      ]
    },
    {
      "cell_type": "markdown",
      "metadata": {
        "id": "yY7BgBdQ3hka",
        "colab_type": "text"
      },
      "source": [
        "#Normalize pixel value to be between 0 and 1"
      ]
    },
    {
      "cell_type": "code",
      "metadata": {
        "id": "PEtUrOL93mF-",
        "colab_type": "code",
        "colab": {}
      },
      "source": [
        "x_train = x_train/255.0\n",
        "x_test = x_test/255.0"
      ],
      "execution_count": 0,
      "outputs": []
    },
    {
      "cell_type": "markdown",
      "metadata": {
        "id": "f-hNIjUP3x6K",
        "colab_type": "text"
      },
      "source": [
        "#Define network layers which the input data will pass through to be transformed to an output of 10 probabilities.\n",
        "#One for the input being classified as each of the 10 digits"
      ]
    },
    {
      "cell_type": "code",
      "metadata": {
        "id": "PRbnu2cb4CdR",
        "colab_type": "code",
        "outputId": "45f478d1-fbc7-4dfd-e603-a57aa1503235",
        "colab": {
          "base_uri": "https://localhost:8080/",
          "height": 326
        }
      },
      "source": [
        "model = tf.keras.models.Sequential([\n",
        "    tf.keras.layers.Flatten(input_shape = (28, 28)),\n",
        "    tf.keras.layers.Dense(128, activation = 'relu'),\n",
        "    tf.keras.layers.Dense(10, activation = 'softmax')\n",
        "])\n",
        "\n",
        "#chooses parameters to use for the model\n",
        "model.compile(optimizer = 'adam', loss ='sparse_categorical_crossentropy', metrics=['accuracy'])\n",
        "\n",
        "model.fit(x_train, y_train, epochs =5)\n",
        "model.evaluate(x_test, y_test)"
      ],
      "execution_count": 0,
      "outputs": [
        {
          "output_type": "stream",
          "text": [
            "WARNING: Logging before flag parsing goes to stderr.\n",
            "W0713 05:51:58.321078 139782054352768 deprecation.py:323] From /usr/local/lib/python3.6/dist-packages/tensorflow/python/ops/math_grad.py:1250: add_dispatch_support.<locals>.wrapper (from tensorflow.python.ops.array_ops) is deprecated and will be removed in a future version.\n",
            "Instructions for updating:\n",
            "Use tf.where in 2.0, which has the same broadcast rule as np.where\n"
          ],
          "name": "stderr"
        },
        {
          "output_type": "stream",
          "text": [
            "Train on 60000 samples\n",
            "Epoch 1/5\n",
            "60000/60000 [==============================] - 5s 85us/sample - loss: 0.2603 - accuracy: 0.9265\n",
            "Epoch 2/5\n",
            "60000/60000 [==============================] - 5s 80us/sample - loss: 0.1179 - accuracy: 0.9660\n",
            "Epoch 3/5\n",
            "60000/60000 [==============================] - 5s 79us/sample - loss: 0.0823 - accuracy: 0.9754\n",
            "Epoch 4/5\n",
            "60000/60000 [==============================] - 6s 96us/sample - loss: 0.0592 - accuracy: 0.9816\n",
            "Epoch 5/5\n",
            "60000/60000 [==============================] - 6s 98us/sample - loss: 0.0469 - accuracy: 0.9860\n",
            "10000/10000 [==============================] - 0s 43us/sample - loss: 0.0746 - accuracy: 0.9773\n"
          ],
          "name": "stdout"
        },
        {
          "output_type": "execute_result",
          "data": {
            "text/plain": [
              "[0.07455836715116165, 0.9773]"
            ]
          },
          "metadata": {
            "tags": []
          },
          "execution_count": 26
        }
      ]
    },
    {
      "cell_type": "markdown",
      "metadata": {
        "id": "BjewEncw5gse",
        "colab_type": "text"
      },
      "source": [
        "#outputs the probabilities for the input\n"
      ]
    },
    {
      "cell_type": "code",
      "metadata": {
        "id": "Cbrhqrkx5RqC",
        "colab_type": "code",
        "outputId": "8a4634a6-d336-42c0-9229-229fab98dddb",
        "colab": {
          "base_uri": "https://localhost:8080/",
          "height": 85
        }
      },
      "source": [
        "model(x_train[:1])"
      ],
      "execution_count": 0,
      "outputs": [
        {
          "output_type": "execute_result",
          "data": {
            "text/plain": [
              "<tf.Tensor: id=70978, shape=(1, 10), dtype=float32, numpy=\n",
              "array([[4.2068279e-11, 2.6755251e-09, 1.7913981e-08, 5.9074553e-04,\n",
              "        7.6353621e-17, 9.9940920e-01, 3.9382351e-13, 9.3707948e-09,\n",
              "        5.7397986e-10, 5.2790085e-08]], dtype=float32)>"
            ]
          },
          "metadata": {
            "tags": []
          },
          "execution_count": 27
        }
      ]
    },
    {
      "cell_type": "markdown",
      "metadata": {
        "id": "QcCrNhmB5rZR",
        "colab_type": "text"
      },
      "source": [
        "#print the element with highest probability\n"
      ]
    },
    {
      "cell_type": "code",
      "metadata": {
        "id": "ipx4iUfI5wD4",
        "colab_type": "code",
        "outputId": "217450c5-76c4-4ef9-8991-4a40f9083ee1",
        "colab": {
          "base_uri": "https://localhost:8080/",
          "height": 34
        }
      },
      "source": [
        "np.argmax(model(x_train[:1]))"
      ],
      "execution_count": 0,
      "outputs": [
        {
          "output_type": "execute_result",
          "data": {
            "text/plain": [
              "5"
            ]
          },
          "metadata": {
            "tags": []
          },
          "execution_count": 28
        }
      ]
    },
    {
      "cell_type": "markdown",
      "metadata": {
        "id": "fI39timT6Ft5",
        "colab_type": "text"
      },
      "source": [
        "###^in this case, the image passed is most likely the number 5\n"
      ]
    },
    {
      "cell_type": "code",
      "metadata": {
        "id": "PrC1KwSV6Jhx",
        "colab_type": "code",
        "colab": {}
      },
      "source": [
        "class MyModel(tf.keras.Model):\n",
        "  \n",
        "  #constructor\n",
        "  def __init__(self):\n",
        "     super().__init__()\n",
        "     self.flat = tf.keras.layers.Flatten(input_shape=(28, 28))\n",
        "     self.dense1 = tf.keras.layers.Dense(128, activation=tf.nn.relu)\n",
        "     self.dense2 = tf.keras.layers.Dense(10, activation=tf.nn.softmax)\n",
        "     \n",
        "     #loss function\n",
        "     self.loss = tf.keras.losses.SparseCategoricalCrossentropy()\n",
        "      \n",
        "     #optimizer\n",
        "     self.optimizer = tf.optimizers.Adam()\n",
        "      \n",
        "     #accuracy\n",
        "     self.accuracy = tf.keras.metrics.Accuracy()\n",
        "     \n",
        "  #takes inputs and runs them each layer of our model (dense 1 and 2)\n",
        "  def call(self, inputs):\n",
        "    flat = self.flat(inputs)\n",
        "    dense1 = self.dense1(flat)\n",
        "    return self.dense2(dense1)\n",
        "  \n",
        "  #\n",
        "  def get_loss(self, inputs, expected):\n",
        "    return self.loss(expected, self(inputs))\n",
        "  \n",
        "  def optimize(self, inputs, expected):\n",
        "    loss = lambda: self.get_loss(inputs, expected)\n",
        "    self.optimizer.minimize(loss = loss, var_list = self.trainable_weights)\n",
        "  \n",
        "  #gets accuracy of prediction\n",
        "  def get_accuracy(self, inputs, expected):\n",
        "    return self.accuracy(expected, tf.argmax(self(inputs), axis =1))\n",
        "  \n",
        "  #function to run the training\n",
        "  def fit(self, x, y, batch_size, epochs):\n",
        "    num_samples = x.shape[0]\n",
        "    for ep in range(epochs):\n",
        "      for i_start in range(0, num_samples, batch_size):\n",
        "        x_batch = x[i_start : i_start+batch_size]\n",
        "        y_batch = y[i_start : i_start+batch_size]\n",
        "        self.optimize(x_batch, y_batch)\n",
        "        \n",
        "      loss = self.get_loss(x,y)\n",
        "      acc = self.get_accuracy(x,y)\n",
        "      print(\"Epoch: {}, loss: {}, accuracy: {}\".format(ep, loss, acc))"
      ],
      "execution_count": 0,
      "outputs": []
    },
    {
      "cell_type": "code",
      "metadata": {
        "id": "gtb868MQ_gXC",
        "colab_type": "code",
        "outputId": "d9418cfa-f3d0-4160-bd56-b8a0cf33c2f1",
        "colab": {
          "base_uri": "https://localhost:8080/",
          "height": 102
        }
      },
      "source": [
        "my_model = MyModel()\n",
        "my_model.fit(x_train, y_train, batch_size = 50, epochs=5)"
      ],
      "execution_count": 0,
      "outputs": [
        {
          "output_type": "stream",
          "text": [
            "Epoch: 0, loss: 0.17123760282993317, accuracy: 0.9477666616439819\n",
            "Epoch: 1, loss: 0.11377133429050446, accuracy: 0.9558916687965393\n",
            "Epoch: 2, loss: 0.08201950788497925, accuracy: 0.9618333578109741\n",
            "Epoch: 3, loss: 0.069471076130867, accuracy: 0.9656500220298767\n",
            "Epoch: 4, loss: 0.058103129267692566, accuracy: 0.9686300158500671\n"
          ],
          "name": "stdout"
        }
      ]
    },
    {
      "cell_type": "code",
      "metadata": {
        "id": "F6SIlXSuAziw",
        "colab_type": "code",
        "colab": {}
      },
      "source": [
        "np.argmax(my_model(x_train[:1]))"
      ],
      "execution_count": 0,
      "outputs": []
    }
  ]
}